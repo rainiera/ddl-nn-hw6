{
 "cells": [
  {
   "cell_type": "markdown",
   "metadata": {},
   "source": [
    "# Homework 6\n",
    "In this homework we will build deeper networks with 20 or more layers.\n",
    "\n",
    "Development notes: \n",
    "\n",
    "1) If you are doing your homework in a Jupyter/iPython notebook you may need to 'Restart & Clear Output' after making a change and re-running a cell.  TensorFlow will not allow you to create multiple variables with the same name, which is what you are doing when you run a cell that creates a variable twice.<br/><br/>\n",
    "2) Be careful with your calls to global_variables_initializer(). If you call it after training one network it will re-initialize your variables erasing your training.  In general, double check the outputs of your model after all training and before turning your model in. Ending a session will discard all your variable values.\n",
    "\n",
    "## Part 0: Setup"
   ]
  },
  {
   "cell_type": "code",
   "execution_count": null,
   "metadata": {
    "collapsed": true
   },
   "outputs": [],
   "source": [
    "import tensorflow as tf\n",
    "import numpy as np\n",
    "import util\n",
    "\n",
    "# Load the data we are giving you\n",
    "def load(filename, W=64, H=64):\n",
    "    data = np.fromfile(filename, dtype=np.uint8).reshape((-1, W*H*3+1))\n",
    "    images, labels = data[:, :-1].reshape((-1,H,W,3)), data[:, -1]\n",
    "    return images, labels\n",
    "\n",
    "image_data, label_data = load('tux_train.dat')\n",
    "\n",
    "print('Input shape: ' + str(image_data.shape))\n",
    "print('Labels shape: ' + str(label_data.shape))\n",
    "\n",
    "num_classes = 6"
   ]
  },
  {
   "cell_type": "markdown",
   "metadata": {},
   "source": [
    "## Part 1: Define your convnet"
   ]
  },
  {
   "cell_type": "code",
   "execution_count": null,
   "metadata": {
    "collapsed": true
   },
   "outputs": [],
   "source": [
    "# Lets clear the tensorflow graph, so that you don't have to restart the notebook every time you change the network\n",
    "tf.reset_default_graph()\n",
    "\n",
    "# Set up your input placeholder\n",
    "inputs = tf.placeholder(tf.float32, (None,64,64,3))\n",
    "\n",
    "# Set up your input placeholder\n",
    "training = tf.placeholder_with_default(False, (), name='training')\n",
    "\n",
    "# Step 1: Augment the training data (try the following, not all might improve the performance)\n",
    "#  * mirror the image\n",
    "#  * color augmentations (keep the values to small ranges first then try to expand):\n",
    "#    - brightness\n",
    "#    - hue\n",
    "#    - saturation\n",
    "#    - contrast\n",
    "\n",
    "def data_augmentation(I):\n",
    "    # TODO: Put your data augmentation here (copy from HW5, you can skip the color augmentation for this homework)\n",
    "    return I\n",
    "\n",
    "# map_fn applies data_augmentation independently for each image in the batch, since we are not croping \n",
    "# let's apply the augmentation before whitening, it does make evaluation easier\n",
    "aug_input = tf.map_fn(data_augmentation, inputs)\n",
    "\n",
    "# During evaluation we don't want data augmentation\n",
    "eval_inputs = tf.identity(aug_input, name='inputs')\n",
    "\n",
    "# Whenever you deal with image data it's important to mean center it first and subtract the standard deviation\n",
    "white_inputs = (eval_inputs - 100.) / 72.\n",
    "\n",
    "\n",
    "# Set up your label placeholders\n",
    "labels = tf.placeholder(tf.int64, (None), name='labels')\n",
    "\n",
    "with tf.name_scope('model'), tf.variable_scope('model'):\n",
    "    # Step 2: define the compute graph of your CNN here.\n",
    "    #     Build the network out of 20 3x3 convolutions without striding and 5 pooling layers with stride=2.\n",
    "    #     Hint: Use a for loop or two to define the model\n",
    "    #     Hint: make sure your classification layer does not have a relu `activation_fn=None`\n",
    "    #   Train this model first.\n",
    "    # Step 3: Add batch normalization\n",
    "    #     Hint: you don't need to use scale or center if you apply BN before a convolution.\n",
    "    #           You do need center if BN is between the conv and a ReLU\n",
    "    #     Don't forget to give the batch_normalization layer a 'training=training' argument.\n",
    "    #  Train your model (you should see it converge much faster now).\n",
    "    # Step 4: Add residual connections\n",
    "    #  For simplicity you do not need to add a residual connection to every layer, but add them to at least \n",
    "    #      half of your layers\n",
    "    #  Train your model (you should see it converge even faster now).\n",
    "    h = white_inputs\n",
    "    \n",
    "    # TODO: Put your code here\n",
    "    \n",
    "    # The input here should be a   None x 1 x 1 x 6   tensor\n",
    "    h = tf.contrib.layers.flatten(h)\n",
    "\n",
    "    loss = tf.reduce_mean(tf.nn.sparse_softmax_cross_entropy_with_logits(logits=h, labels=labels))\n",
    "\n",
    "output = tf.identity(h, name='output')\n",
    "\n",
    "regularization_loss = tf.losses.get_regularization_loss()\n",
    "\n",
    "# Let's weight the regularization loss down, otherwise it will hurt the model performance\n",
    "# You can tune this weight if you wish\n",
    "total_loss = loss + 1e-6 * regularization_loss\n",
    "\n",
    "# create an optimizer\n",
    "# NOTE: you might have to play with the learning rate as you try out \n",
    "# batch_normalization (0.001 might work well without BN, 0.1 with, 0.001 for resnets)\n",
    "optimizer = tf.train.MomentumOptimizer(0.001, 0.9)\n",
    "\n",
    "# use that optimizer on your loss function (control_dependencies makes sure any \n",
    "# batch_norm parameters are properly updated)\n",
    "with tf.control_dependencies(tf.get_collection(tf.GraphKeys.UPDATE_OPS)):\n",
    "    opt = optimizer.minimize(total_loss)\n",
    "correct = tf.equal(tf.argmax(output, 1), labels)\n",
    "accuracy = tf.reduce_mean(tf.cast(correct, tf.float32))\n",
    "\n",
    "print( \"Total number of variables used \", np.sum([v.get_shape().num_elements() for v in tf.trainable_variables()]), '/', 500000 )\n"
   ]
  },
  {
   "cell_type": "markdown",
   "metadata": {},
   "source": [
    "## Part 2: Training\n",
    "\n",
    "Training might take up to 20 min depending on your architecture (and if you have a GPU or not). A network without BN will train much slower, but try it first anyway."
   ]
  },
  {
   "cell_type": "code",
   "execution_count": null,
   "metadata": {
    "collapsed": true,
    "scrolled": false
   },
   "outputs": [],
   "source": [
    "image_val, label_val = load('tux_val.dat')\n",
    "# Batch size\n",
    "BS = 32\n",
    "\n",
    "# Start a session\n",
    "sess = tf.Session()\n",
    "\n",
    "# Set up training\n",
    "sess.run(tf.global_variables_initializer())\n",
    "\n",
    "# An epoch is a single pass over the training data\n",
    "for epoch in range(20):\n",
    "    # Let's shuffle the data every epoch\n",
    "    np.random.seed(epoch)\n",
    "    np.random.shuffle(image_data)\n",
    "    np.random.seed(epoch)\n",
    "    np.random.shuffle(label_data)\n",
    "    # Go through the entire dataset once\n",
    "    accuracy_vals, loss_vals = [], []\n",
    "    for i in range(0, image_data.shape[0]-BS+1, BS):\n",
    "        # Train a single batch\n",
    "        batch_images, batch_labels = image_data[i:i+BS], label_data[i:i+BS]\n",
    "        accuracy_val, loss_val, _ = sess.run([accuracy, total_loss, opt], feed_dict={inputs: batch_images, labels: batch_labels, training:True})\n",
    "        accuracy_vals.append(accuracy_val)\n",
    "        loss_vals.append(loss_val)\n",
    "\n",
    "    val_correct = []\n",
    "    for i in range(0, image_val.shape[0], BS):\n",
    "        batch_images, batch_labels = image_val[i:i+BS], label_val[i:i+BS]\n",
    "        val_correct.extend( sess.run(correct, feed_dict={eval_inputs: batch_images, labels: batch_labels}) )\n",
    "    print('[%3d] Accuracy: %0.3f  \\t  Loss: %0.3f  \\t  validation accuracy: %0.3f'%(epoch, np.mean(accuracy_vals), np.mean(loss_vals), np.mean(val_correct)))"
   ]
  },
  {
   "cell_type": "markdown",
   "metadata": {},
   "source": [
    "## Part 3: Evaluation"
   ]
  },
  {
   "cell_type": "markdown",
   "metadata": {},
   "source": [
    "### Compute the valiation accuracy"
   ]
  },
  {
   "cell_type": "code",
   "execution_count": null,
   "metadata": {
    "collapsed": true
   },
   "outputs": [],
   "source": [
    "image_val, label_val = load('tux_val.dat')\n",
    "\n",
    "print('Input shape: ' + str(image_val.shape))\n",
    "print('Labels shape: ' + str(label_val.shape))\n",
    "\n",
    "val_correct = []\n",
    "for i in range(0, image_val.shape[0], BS):\n",
    "    batch_images, batch_labels = image_val[i:i+BS], label_val[i:i+BS]\n",
    "    val_correct.extend( sess.run(correct, feed_dict={eval_inputs: batch_images, labels: batch_labels}) )\n",
    "print(\"ConvNet Validation Accuracy: \", np.mean(val_correct))"
   ]
  },
  {
   "cell_type": "markdown",
   "metadata": {},
   "source": [
    "## Part 4: Save Model\n",
    "Please note that we also want you to turn in your ipynb for this assignment.  Zip up the ipynb along with the tfg for your submission."
   ]
  },
  {
   "cell_type": "code",
   "execution_count": null,
   "metadata": {
    "collapsed": true
   },
   "outputs": [],
   "source": [
    "util.save('assignment6.tfg', session=sess)"
   ]
  },
  {
   "cell_type": "markdown",
   "metadata": {},
   "source": [
    "### Part 5 (optional): See your model"
   ]
  },
  {
   "cell_type": "code",
   "execution_count": null,
   "metadata": {
    "collapsed": true
   },
   "outputs": [],
   "source": [
    "# Show the current graph\n",
    "util.show_graph(tf.get_default_graph().as_graph_def())"
   ]
  },
  {
   "cell_type": "code",
   "execution_count": null,
   "metadata": {
    "collapsed": true
   },
   "outputs": [],
   "source": []
  }
 ],
 "metadata": {
  "anaconda-cloud": {},
  "kernelspec": {
   "display_name": "Python 3",
   "language": "python",
   "name": "python3"
  },
  "language_info": {
   "codemirror_mode": {
    "name": "ipython",
    "version": 3
   },
   "file_extension": ".py",
   "mimetype": "text/x-python",
   "name": "python",
   "nbconvert_exporter": "python",
   "pygments_lexer": "ipython3",
   "version": "3.5.2"
  }
 },
 "nbformat": 4,
 "nbformat_minor": 1
}

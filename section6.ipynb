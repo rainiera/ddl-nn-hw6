{
 "cells": [
  {
   "cell_type": "markdown",
   "metadata": {},
   "source": [
    "# Section 6\n",
    "\n",
    "Today\n",
    "<ul>\n",
    "<li>Creating Lots of Layers</li>\n",
    "<li><a href='https://www.tensorflow.org/api_docs/python/tf/layers/batch_normalization'>TF Batch Normalization</a> -- <a href='https://arxiv.org/pdf/1502.03167.pdf'>Batch Normalization Paper</a></li>\n",
    "<li><a href='https://www.tensorflow.org/api_guides/python/framework#Graph_collections'>Collections</a> -- <a href='https://www.tensorflow.org/api_docs/python/tf/get_collection'>get_collections</a></li>\n",
    "<li><a href='https://www.tensorflow.org/api_docs/python/tf/GraphKeys'>Graph Keys</a></li>\n",
    "<li><a href='https://www.tensorflow.org/api_docs/python/tf/control_dependencies'>Control Dependencies</a></li>\n",
    "</ul>\n",
    "\n",
    "## Creating Lots of Layers"
   ]
  },
  {
   "cell_type": "code",
   "execution_count": null,
   "metadata": {
    "collapsed": false
   },
   "outputs": [],
   "source": [
    "import tensorflow as tf\n",
    "\n",
    "inputs = tf.placeholder(tf.float32, (None, 20))\n",
    "\n",
    "# How do I make a 50-layer network without 50 lines of code?\n",
    "with tf.name_scope('model1'), tf.variable_scope('model1'):\n",
    "    act = inputs\n",
    "    for i in range(50):\n",
    "        act = tf.contrib.layers.fully_connected(act, 10)\n",
    "        print(act)\n",
    "        "
   ]
  },
  {
   "cell_type": "markdown",
   "metadata": {},
   "source": [
    "## Batch Normalization"
   ]
  },
  {
   "cell_type": "code",
   "execution_count": null,
   "metadata": {
    "collapsed": false
   },
   "outputs": [],
   "source": [
    "I = tf.placeholder(tf.float32, (None, 32, 32, 3))\n",
    "training = tf.placeholder_with_default(False, (), name='trainmode')\n",
    "\n",
    "with tf.name_scope('model2'), tf.variable_scope('model2'):\n",
    "    c1 = tf.contrib.layers.conv2d(I, 20, (7, 7), scope='conv1')\n",
    "    b1 = tf.layers.batch_normalization(c1, center=False, scale=False, training=training)\n",
    "    c2 = tf.contrib.layers.conv2d(c1, 5, (7, 7), scope='conv2')\n",
    "    flat = tf.contrib.layers.flatten(c2)\n",
    "    print(flat)"
   ]
  },
  {
   "cell_type": "markdown",
   "metadata": {},
   "source": [
    "## Graph Keys"
   ]
  },
  {
   "cell_type": "code",
   "execution_count": null,
   "metadata": {
    "collapsed": false
   },
   "outputs": [],
   "source": [
    "tf.GraphKeys.GLOBAL_VARIABLES"
   ]
  },
  {
   "cell_type": "markdown",
   "metadata": {},
   "source": [
    "## Collections"
   ]
  },
  {
   "cell_type": "code",
   "execution_count": null,
   "metadata": {
    "collapsed": false
   },
   "outputs": [],
   "source": [
    "tf.get_collection(tf.GraphKeys.GLOBAL_VARIABLES)"
   ]
  },
  {
   "cell_type": "markdown",
   "metadata": {},
   "source": [
    "## Control Dependencies"
   ]
  },
  {
   "cell_type": "code",
   "execution_count": null,
   "metadata": {
    "collapsed": true
   },
   "outputs": [],
   "source": [
    "with tf.control_dependencies(opt_to_finish):\n",
    "    opt_to_run"
   ]
  },
  {
   "cell_type": "markdown",
   "metadata": {},
   "source": [
    "## Batch Normalization (Continued)"
   ]
  },
  {
   "cell_type": "code",
   "execution_count": null,
   "metadata": {
    "collapsed": false
   },
   "outputs": [],
   "source": [
    "labels = tf.placeholder(tf.int32, (None))\n",
    "loss = tf.reduce_mean(tf.nn.sparse_softmax_cross_entropy_with_logits(logits=flat, labels=labels))\n",
    "\n",
    "with tf.control_dependencies(tf.get_collection(tf.GraphKeys.UPDATE_OPS)):\n",
    "    optimizer = tf.train.MomentumOptimizer(0.0001, 0.9).minimize(loss)\n",
    "\n"
   ]
  }
 ],
 "metadata": {
  "anaconda-cloud": {},
  "kernelspec": {
   "display_name": "Python 2",
   "language": "python",
   "name": "python2"
  },
  "language_info": {
   "codemirror_mode": {
    "name": "ipython",
    "version": 2
   },
   "file_extension": ".py",
   "mimetype": "text/x-python",
   "name": "python",
   "nbconvert_exporter": "python",
   "pygments_lexer": "ipython2",
   "version": "2.7.9"
  }
 },
 "nbformat": 4,
 "nbformat_minor": 0
}
